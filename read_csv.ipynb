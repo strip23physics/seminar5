{
 "cells": [
  {
   "cell_type": "code",
   "execution_count": 1,
   "metadata": {},
   "outputs": [],
   "source": [
    "import pandas as pd\n",
    "import numpy as np\n",
    "from PIL import Image"
   ]
  },
  {
   "cell_type": "code",
   "execution_count": 2,
   "metadata": {},
   "outputs": [],
   "source": [
    "#Read fashion-mnist_test.csv with pandas\n",
    "\n",
    "#Create a numpy array test_x that has 100 image information. The shape of test_x is (100, 28, 28)\n",
    "#Also create a numpy arry test_y with labels for 100 images. The shape of test_y is (100, 10)\n"
   ]
  },
  {
   "cell_type": "code",
   "execution_count": 4,
   "metadata": {},
   "outputs": [],
   "source": [
    "#This is for testing\n",
    "for image_no in range(0,100):\n",
    "    image_data = test_x[image_no]\n",
    "    img = Image.fromarray(image_data, 'L')\n",
    "    img.save('image_{}.png'.format(image_no))"
   ]
  },
  {
   "cell_type": "code",
   "execution_count": null,
   "metadata": {},
   "outputs": [],
   "source": []
  }
 ],
 "metadata": {
  "kernelspec": {
   "display_name": "Python [conda env:speaker_recognition]",
   "language": "python",
   "name": "conda-env-speaker_recognition-py"
  },
  "language_info": {
   "codemirror_mode": {
    "name": "ipython",
    "version": 3
   },
   "file_extension": ".py",
   "mimetype": "text/x-python",
   "name": "python",
   "nbconvert_exporter": "python",
   "pygments_lexer": "ipython3",
   "version": "3.6.6"
  }
 },
 "nbformat": 4,
 "nbformat_minor": 2
}
