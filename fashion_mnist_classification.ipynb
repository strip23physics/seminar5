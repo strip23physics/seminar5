{
 "cells": [
  {
   "cell_type": "code",
   "execution_count": 1,
   "metadata": {},
   "outputs": [],
   "source": [
    "import tensorflow as tf\n",
    "import numpy as np\n",
    "import time"
   ]
  },
  {
   "cell_type": "code",
   "execution_count": 2,
   "metadata": {},
   "outputs": [],
   "source": [
    "class CNN(object):\n",
    "    def __init__(self):\n",
    "        #parameters are defined here\n",
    "\n",
    "        \n",
    "    def get_data(self):\n",
    "        #getting data from npz file. This is done for you.\n",
    "        npz = np.load('fashion.npz')\n",
    "        self.train_x = npz['train_x'][:2000].reshape([-1, 28, 28, 1])/256.0\n",
    "        self.train_y = npz['train_y'][:2000]\n",
    "        self.test_x = npz['test_x'][:100].reshape([-1, 28, 28, 1])/256.0\n",
    "        self.test_y = npz['test_y'][:100]\n",
    "        \n",
    "    def inference(self):\n",
    "        #defining your network\n",
    "\n",
    "        \n",
    "    def loss(self):\n",
    "        #defining loss\n",
    "\n",
    "    \n",
    "    def optimize(self):\n",
    "        #defining op using adam gradient descent\n",
    "\n",
    "        \n",
    "    def summary(self):\n",
    "        #summary for tensorboard. This is done for you\n",
    "        tr_l = tf.summary.scalar('train_loss', self.loss)\n",
    "        te_l = tf.summary.scalar('test_loss', self.loss)\n",
    "        \n",
    "        tr_a = tf.summary.scalar('train_accuracy', self.accuracy)\n",
    "        te_a = tf.summary.scalar('test_accuracy', self.accuracy)\n",
    "        \n",
    "        self.sum_op_train = tf.summary.merge([tr_l, tr_a])\n",
    "        self.sum_op_test = tf.summary.merge([te_l, te_a])\n",
    "    \n",
    "    def evaluate(self):\n",
    "\n",
    "    \n",
    "    def build(self):\n",
    "        self.get_data()\n",
    "        self.inference()\n",
    "        self.loss()\n",
    "        self.optimize()\n",
    "        self.evaluate()\n",
    "        self.summary()\n",
    "        \n",
    "    def train_one_epoch(self, sess, writer, epoch, step):\n",
    "\n",
    "    \n",
    "    def eval_once(self, sess, writer, epoch, step):\n",
    "\n",
    "    \n",
    "    def train(self, n_epochs):\n"
   ]
  },
  {
   "cell_type": "code",
   "execution_count": 3,
   "metadata": {},
   "outputs": [
    {
     "name": "stdout",
     "output_type": "stream",
     "text": [
      "1 Epoch training Took: 1.9271247386932373 seconds\n",
      "1 Eval Took: 0.03318452835083008 seconds\n",
      "1 Epoch training Took: 1.805638313293457 seconds\n",
      "1 Eval Took: 0.021646738052368164 seconds\n",
      "1 Epoch training Took: 1.7717220783233643 seconds\n",
      "1 Eval Took: 0.021725177764892578 seconds\n",
      "1 Epoch training Took: 1.8293688297271729 seconds\n",
      "1 Eval Took: 0.021680593490600586 seconds\n",
      "1 Epoch training Took: 1.7453813552856445 seconds\n",
      "1 Eval Took: 0.021123886108398438 seconds\n"
     ]
    }
   ],
   "source": [
    "if __name__ == '__main__':\n",
    "    model = CNN()\n",
    "    model.build()\n",
    "    model.train(n_epochs=50)"
   ]
  },
  {
   "cell_type": "code",
   "execution_count": null,
   "metadata": {},
   "outputs": [],
   "source": []
  }
 ],
 "metadata": {
  "kernelspec": {
   "display_name": "Python [conda env:speaker_recognition]",
   "language": "python",
   "name": "conda-env-speaker_recognition-py"
  },
  "language_info": {
   "codemirror_mode": {
    "name": "ipython",
    "version": 3
   },
   "file_extension": ".py",
   "mimetype": "text/x-python",
   "name": "python",
   "nbconvert_exporter": "python",
   "pygments_lexer": "ipython3",
   "version": "3.6.6"
  }
 },
 "nbformat": 4,
 "nbformat_minor": 2
}
